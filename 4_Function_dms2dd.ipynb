{
 "cells": [
  {
   "cell_type": "markdown",
   "id": "3c257db7-bcd5-4af0-be80-dfa51c7688ea",
   "metadata": {},
   "source": [
    "# Defining and using new functions\n",
    "* Python Functions are powerful tools to perform custom-made tasks\n",
    "* A function is defined by its name and the arguments(inputs) it takes\n",
    "* It returns the output applying some operations on the input\n",
    "* The function definition is always followed by a ':' symbol and a \\tab in the next line\n",
    "* This is necessary to make computer understand that whatever is going to be written after the ':' are within the function\n",
    "* After the function is defined, it can be 'called' from the main program once/multiple times whenever necessary\n",
    "\n",
    "# Here we Define a function that converts a geographical coordinate in degree minute second to degree decimal"
   ]
  },
  {
   "cell_type": "code",
   "execution_count": 1,
   "id": "3ebc6fc5-6a44-4605-9010-0ffb08614d09",
   "metadata": {},
   "outputs": [],
   "source": [
    "# Before using any function, it needs to be defined\n",
    "def dms_to_dd(deg, min, sec):\n",
    "    deg_dec=deg + (min/60) + (sec/3600)\n",
    "    return out"
   ]
  },
  {
   "cell_type": "code",
   "execution_count": 3,
   "id": "64021470-e766-424b-88d9-89a4cd42ca6b",
   "metadata": {},
   "outputs": [
    {
     "name": "stdin",
     "output_type": "stream",
     "text": [
      "Enter degree:  22\n",
      "Enter minute:  45\n",
      "Enter second:  15\n"
     ]
    },
    {
     "name": "stdout",
     "output_type": "stream",
     "text": [
      "The coordinate in degree decimal is:  22.754166666666666\n"
     ]
    }
   ],
   "source": [
    "# User gives the coordinate in degree, minute,second format and the values are assigned to variables\n",
    "d=float(input('Enter degree: '))\n",
    "m=float(input('Enter minute: '))\n",
    "s=float(input('Enter second: '))\n",
    "\n",
    "# The variables are passed to the function. The function converts them to degree decimal and returns\n",
    "dd=dms_to_dd(d,m,s)\n",
    "print('The coordinate in degree decimal is: ',  dd)"
   ]
  },
  {
   "cell_type": "code",
   "execution_count": null,
   "id": "c33d1434-7b52-4793-9d7c-34224b9a3044",
   "metadata": {},
   "outputs": [],
   "source": []
  }
 ],
 "metadata": {
  "kernelspec": {
   "display_name": "Python 3 (ipykernel)",
   "language": "python",
   "name": "python3"
  },
  "language_info": {
   "codemirror_mode": {
    "name": "ipython",
    "version": 3
   },
   "file_extension": ".py",
   "mimetype": "text/x-python",
   "name": "python",
   "nbconvert_exporter": "python",
   "pygments_lexer": "ipython3",
   "version": "3.12.2"
  }
 },
 "nbformat": 4,
 "nbformat_minor": 5
}
