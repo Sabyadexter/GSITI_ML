{
 "cells": [
  {
   "cell_type": "markdown",
   "id": "2eb85462-afee-4355-828b-c70b4d30ef65",
   "metadata": {},
   "source": [
    "# Generating a Survey Layout in Grid Pattern using Python\n",
    "**--------Problem Statement--------**\n",
    "* Survey to be carried out in Toposheet 58K11\n",
    "* Sample to be collected at every 1 km interval in square grid\n",
    "* Toposheets has an extent of 15 minutes(0.25 degrees) along Longitude and Latitude\n",
    "* Assuming 1 degree is equivalent to 110km(Approximately), a toposheet has dimension of (27.5 km X 27.5 km)\n",
    "* The grid would have total 28 points along X(Longitude) and 28 points along Y(Latitude) i.e.total 28X28=784 points\n",
    "* Finally the grid coordinates would be saved to csv file\n",
    "* We finally visualize this grid on mobile Google Map (Can be used as a tool for field work)"
   ]
  },
  {
   "cell_type": "code",
   "execution_count": 1,
   "id": "f1da32f1-34ce-47d6-8c66-c7664f3f5ef7",
   "metadata": {},
   "outputs": [],
   "source": [
    "# Import the essential libraries\n",
    "import numpy as np\n",
    "import matplotlib.pyplot as plt"
   ]
  },
  {
   "cell_type": "code",
   "execution_count": 2,
   "id": "bf870543-3d58-4a67-9ba5-a02cdaa3a0f9",
   "metadata": {},
   "outputs": [
    {
     "name": "stdout",
     "output_type": "stream",
     "text": [
      "784\n"
     ]
    }
   ],
   "source": [
    "# Declaring the number of points and total points\n",
    "Long_points=28\n",
    "Lat_points=28\n",
    "Total_points=Long_points*Lat_points\n",
    "print(Total_points)"
   ]
  },
  {
   "cell_type": "code",
   "execution_count": 3,
   "id": "f005a673-3721-4a31-afac-384c00f45c89",
   "metadata": {},
   "outputs": [
    {
     "name": "stdout",
     "output_type": "stream",
     "text": [
      "784 784\n"
     ]
    }
   ],
   "source": [
    "# Declaring two numpy arrays for storing Longitude coordinates and Latitude coordinates\n",
    "# For 784 points, we need arrays of length 784\n",
    "Long=np.zeros(Total_points)\n",
    "Lat=np.zeros(Total_points)\n",
    "station_id=np.zeros(Total_points) # ID number of the locations\n",
    "print(len(Long), len(Lat))"
   ]
  },
  {
   "cell_type": "code",
   "execution_count": 4,
   "id": "b80d044a-5a82-4445-9974-44ae7329114c",
   "metadata": {},
   "outputs": [],
   "source": [
    "# Declaring the parameters required for generating the grid\n",
    "Long_min=78.5\n",
    "Long_max=78.75\n",
    "Lat_min=17.25\n",
    "Lat_max=17.5\n",
    "\n",
    "\n",
    "interval_m=1000    # Grid interval(in meter) declaration\n",
    "interval_dd=interval_m/110000   # Grid interval(in degree decimal) \n",
    "# 110000 m = 1 degree\n",
    "# 1 m      = 1/110000 degree\n",
    "# 1000 m   = 1000/110000 degree"
   ]
  },
  {
   "cell_type": "code",
   "execution_count": 5,
   "id": "65eb5262-7931-44cc-a4a8-f88c55558d75",
   "metadata": {},
   "outputs": [],
   "source": [
    "# This is our main program to calculate the sample location points\n",
    "# The for loop works like this: \n",
    "# 1)Keep Longitude fixed at Long_min value and lay out all points along Latitude, starting from Lat_min until Latitude does not cross the Lat_max value. \n",
    "# 2)Next increase the Longitude by interval_dd and again keep it fixed. Repeat step 1.\n",
    "# 3)Repeat step 1) and 2) until Longitude does not cross the Long_max value.\n",
    "temp_Long=Long_min\n",
    "temp_Lat=Lat_min\n",
    "Lat[0]=Lat_min                            # We know that the first latitude would be the minimum Latitude\n",
    "k=0                                       # This index is initialized to 0 and it keeps track of all the 784 grid points\n",
    "for i in range(Long_points):              # This loop takes care of 28 points along Longitude ( i ranges from 0-27 )\n",
    "    for j in range(Lat_points):           # This loop takes care of 28 points along Latitude ( j ranges from 0-27 )\n",
    "        Lat[k]=Lat_min+(j)*interval_dd    # Inside j loop j increases from 0 to 27. Therefore Latitude values increase from Lat_min to upto Lat_max\n",
    "        Long[k]=Long_min+(i)*interval_dd  # Inside j loop i is constant. Therefore Longitude values remain constant. Longitude\n",
    "        station_id[k]=k\n",
    "        #print(i, Long[k], Lat[k])         # print the values to check if everything works out correctly or not\n",
    "        k=k+1                             # Keep increasing k everytime j increases and i increases from 0-27(Therefore k ranges from 0-28*28 i.e. 784)\n",
    "\n",
    "output = np.column_stack((station_id,Long,Lat))            # Stacking Longitude and Latitude arrays side by side to create a 2D array of dimension 784X2\n",
    "#print(output)\n"
   ]
  },
  {
   "cell_type": "code",
   "execution_count": 6,
   "id": "cbb19bfa-6e33-405b-933d-8c285c494fe0",
   "metadata": {},
   "outputs": [
    {
     "data": {
      "text/plain": [
       "[<matplotlib.lines.Line2D at 0x1a6e2a8be90>]"
      ]
     },
     "execution_count": 6,
     "metadata": {},
     "output_type": "execute_result"
    },
    {
     "data": {
      "image/png": "[encoded data removed]",
      "text/plain": [
       "<Figure size 640x480 with 1 Axes>"
      ]
     },
     "metadata": {},
     "output_type": "display_data"
    }
   ],
   "source": [
    "plt.plot(Long, Lat, '+', ms=3, color='red')"
   ]
  },
  {
   "cell_type": "code",
   "execution_count": 7,
   "id": "27b5924b-3da7-4e27-94a2-84d737080c6c",
   "metadata": {},
   "outputs": [],
   "source": [
    "# Save the grid points to csv file(current folder) for later use\n",
    "np.savetxt(\"58K11_Survey_Layout.csv\",output,delimiter=',',fmt='%3.0f, %2.4f, %2.4f', header='Station_id, Longitude, Latitude')   "
   ]
  },
  {
   "cell_type": "markdown",
   "id": "bb73176d-9806-473f-a46b-2d05181d292f",
   "metadata": {},
   "source": [
    "# Showing the Survey grid on google map for field work\n",
    "* Search 'Create Google Map' on Google\n",
    "* Go to 'My Maps'(usually the first link) -> Get Started (You need to have your Google account logged in)\n",
    "* Click on 'Create a new map' -> Create\n",
    "* 'Import'-> Upload -> Browse and select the file(\"58K11_Survey_Layout.csv\")\n",
    "* Assign the coordinate headers and and station_id as marker names\n",
    "* Change map name from 'Untitled' to '58K11'(Say)\n",
    "* Finish\n",
    "* Next open Google map on phone\n",
    "* At bottom-middle click on 'Saved'\n",
    "* Scroll Down -> Maps \n",
    "* Select the Map '58K11' and you are good to go!\n",
    "* Touch on any pin to see its Station ID(Click on More Info to see the Long, lat)"
   ]
  },
  {
   "cell_type": "code",
   "execution_count": 8,
   "id": "802184ba-5ccc-4501-ad51-a98896d780f2",
   "metadata": {},
   "outputs": [],
   "source": [
    "# For not using the map anymore, follow as above, select the map again. \n",
    "# Click 'View map Legend'-> Close\n",
    "# Now you return to your default view"
   ]
  },
  {
   "cell_type": "code",
   "execution_count": null,
   "id": "f44600cb-cbee-4056-806b-d4753aa9e192",
   "metadata": {},
   "outputs": [],
   "source": []
  }
 ],
 "metadata": {
  "kernelspec": {
   "display_name": "Python 3 (ipykernel)",
   "language": "python",
   "name": "python3"
  },
  "language_info": {
   "codemirror_mode": {
    "name": "ipython",
    "version": 3
   },
   "file_extension": ".py",
   "mimetype": "text/x-python",
   "name": "python",
   "nbconvert_exporter": "python",
   "pygments_lexer": "ipython3",
   "version": "3.12.2"
  }
 },
 "nbformat": 4,
 "nbformat_minor": 5
}
