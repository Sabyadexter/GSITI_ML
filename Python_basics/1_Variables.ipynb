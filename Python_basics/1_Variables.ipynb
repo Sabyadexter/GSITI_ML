{
 "cells": [
  {
   "cell_type": "markdown",
   "id": "1b63d115-025a-4c54-b2e9-0a1a8c637204",
   "metadata": {},
   "source": [
    "# This program explains different types of python variables\n",
    "* Variables are object which can be assigned variable values(that is why the name 'variable')\n",
    "* variables are of following types\n",
    "    * Integer \n",
    "    * Float \n",
    "    * String\n",
    "    * Boolean\n",
    "* We declare a variable by some character or character-numeric combination(some special characters like '/' are not allowed) then assign some value to it\n",
    "    * Examples: a, b, X, y, x1, abc, Lithology, dip_angle\n",
    "    * All variables are case sensitive (A and a are two different varibales)\n",
    "    * Variables can be re-assigned a new values at some later point inside a program"
   ]
  },
  {
   "cell_type": "markdown",
   "id": "154cb79b-a179-4dfc-9e2e-f98fd9ca2a11",
   "metadata": {},
   "source": [
    "# Integer variables: Whole number(+/-). Mainly Used for Mathematical Operations"
   ]
  },
  {
   "cell_type": "code",
   "execution_count": 3,
   "id": "5e176944-9fec-4c72-a658-0dbac4d773c1",
   "metadata": {},
   "outputs": [
    {
     "name": "stdout",
     "output_type": "stream",
     "text": [
      "12\n"
     ]
    }
   ],
   "source": [
    "# Declaring an integer variable and printing it\n",
    "a = 12\n",
    "print(a)"
   ]
  },
  {
   "cell_type": "code",
   "execution_count": 4,
   "id": "1767f832-449b-4f75-b738-63291f93d4be",
   "metadata": {},
   "outputs": [
    {
     "ename": "NameError",
     "evalue": "name 'A' is not defined",
     "output_type": "error",
     "traceback": [
      "\u001b[1;31m---------------------------------------------------------------------------\u001b[0m",
      "\u001b[1;31mNameError\u001b[0m                                 Traceback (most recent call last)",
      "Cell \u001b[1;32mIn[4], line 1\u001b[0m\n\u001b[1;32m----> 1\u001b[0m \u001b[38;5;28mprint\u001b[39m(\u001b[43mA\u001b[49m)\n",
      "\u001b[1;31mNameError\u001b[0m: name 'A' is not defined"
     ]
    }
   ],
   "source": [
    "# case sensitivity check\n",
    "print(A)"
   ]
  },
  {
   "cell_type": "code",
   "execution_count": 5,
   "id": "9be20b0c-0476-4454-a5c9-40f7139ea1a8",
   "metadata": {},
   "outputs": [
    {
     "name": "stdout",
     "output_type": "stream",
     "text": [
      "-5\n"
     ]
    }
   ],
   "source": [
    "# Re-assignment\n",
    "a=-5\n",
    "print(a)"
   ]
  },
  {
   "cell_type": "markdown",
   "id": "37743d99-074b-4c8f-9646-5967eda3573e",
   "metadata": {},
   "source": [
    "# Float variables: Number with decimal points/floating points (+/-). Mainly Used for Mathematical Operations"
   ]
  },
  {
   "cell_type": "code",
   "execution_count": 8,
   "id": "ed855b3f-214f-4a62-95ba-028c6e4cba7a",
   "metadata": {},
   "outputs": [
    {
     "name": "stdout",
     "output_type": "stream",
     "text": [
      "-58.307\n"
     ]
    }
   ],
   "source": [
    "# Delclaring a float variable\n",
    "x=-58.307\n",
    "print(x)"
   ]
  },
  {
   "cell_type": "code",
   "execution_count": 9,
   "id": "508e316a-a7df-4130-a486-edad5ae12dd0",
   "metadata": {},
   "outputs": [
    {
     "name": "stdout",
     "output_type": "stream",
     "text": [
      "78.469 22.028\n"
     ]
    }
   ],
   "source": [
    "# Declaring multiple variables simultaneously\n",
    "Longitude, Latitude = 78.469, 22.028\n",
    "print(Longitude, Latitude)"
   ]
  },
  {
   "cell_type": "markdown",
   "id": "b64ff3d4-afc2-4817-8ffe-2b8d72fe28a9",
   "metadata": {},
   "source": [
    "# String variables: Combination of characters. Mainly Used for Text Operations"
   ]
  },
  {
   "cell_type": "code",
   "execution_count": 12,
   "id": "9012296d-ee2d-4bd7-a7f3-c41cea7c16bd",
   "metadata": {},
   "outputs": [
    {
     "name": "stdout",
     "output_type": "stream",
     "text": [
      "Proterozoic\n",
      "Quartzite\n"
     ]
    }
   ],
   "source": [
    "Age='Proterozoic'\n",
    "Rock='Quartzite'\n",
    "print(Age)\n",
    "print(Rock)"
   ]
  },
  {
   "cell_type": "markdown",
   "id": "70a5e838-af68-428c-b40e-9014ddb14b28",
   "metadata": {},
   "source": [
    "# Simple Operations with variables"
   ]
  },
  {
   "cell_type": "code",
   "execution_count": 17,
   "id": "3eff6416-968c-4685-8597-6c9c3c3fa7df",
   "metadata": {},
   "outputs": [
    {
     "name": "stdout",
     "output_type": "stream",
     "text": [
      "Numbers to be added= 23 12\n",
      "Result after addition= 35\n"
     ]
    }
   ],
   "source": [
    "# Addition\n",
    "a=23\n",
    "b=12\n",
    "print('Numbers to be added=', a, b)\n",
    "c=a+b\n",
    "print('Result after addition=', c)"
   ]
  },
  {
   "cell_type": "code",
   "execution_count": 18,
   "id": "6a241c8f-23a2-44ae-8eb3-39df9b01db0e",
   "metadata": {},
   "outputs": [
    {
     "name": "stdout",
     "output_type": "stream",
     "text": [
      "35\n"
     ]
    }
   ],
   "source": [
    "#Result without any new variable('c')\n",
    "print(a+b)"
   ]
  },
  {
   "cell_type": "code",
   "execution_count": 19,
   "id": "4f248587-854b-4d23-8908-faf14c1eb8f6",
   "metadata": {},
   "outputs": [
    {
     "name": "stdout",
     "output_type": "stream",
     "text": [
      "ProterozoicQuartzite\n"
     ]
    }
   ],
   "source": [
    "Lithology = Age+Rock\n",
    "print(Lithology)"
   ]
  },
  {
   "cell_type": "code",
   "execution_count": 20,
   "id": "1325a3e0-4cf6-4564-8b31-e14540a41d62",
   "metadata": {},
   "outputs": [
    {
     "name": "stdout",
     "output_type": "stream",
     "text": [
      "Proterozoic_Quartzite\n"
     ]
    }
   ],
   "source": [
    "Lithology = Age+'_'+Rock\n",
    "print(Lithology)"
   ]
  },
  {
   "cell_type": "markdown",
   "id": "a1a5bcec-04d0-465c-b2fc-480195dce3fa",
   "metadata": {},
   "source": [
    "# Type function and variable conversion\n",
    "    * Integer can be converted to float/string\n",
    "    * Float can be converted to integer/string\n",
    "    * String cannot be converted to float/integer(if it consists of character only). Can only be done if it includes only numbers."
   ]
  },
  {
   "cell_type": "code",
   "execution_count": 8,
   "id": "176ccd09-8c47-4ac9-b7e5-d35ae7c1421e",
   "metadata": {},
   "outputs": [
    {
     "name": "stdout",
     "output_type": "stream",
     "text": [
      "<class 'int'>\n"
     ]
    }
   ],
   "source": [
    "a=123\n",
    "print(type(a))"
   ]
  },
  {
   "cell_type": "code",
   "execution_count": 6,
   "id": "8d7e2fbf-fdba-4f4c-b809-db53d6c2c14c",
   "metadata": {},
   "outputs": [
    {
     "name": "stdout",
     "output_type": "stream",
     "text": [
      "<class 'float'>\n"
     ]
    }
   ],
   "source": [
    "i=58.79\n",
    "print(type(i))"
   ]
  },
  {
   "cell_type": "code",
   "execution_count": 9,
   "id": "3dbe65d4-d068-48eb-ab1f-3d6a5968c24b",
   "metadata": {},
   "outputs": [
    {
     "name": "stdout",
     "output_type": "stream",
     "text": [
      "<class 'str'>\n"
     ]
    }
   ],
   "source": [
    "Rock='Basalt'\n",
    "print(type(Rock))"
   ]
  },
  {
   "cell_type": "code",
   "execution_count": 11,
   "id": "9af7bb5e-8289-4d61-bf37-6f3d018a0591",
   "metadata": {},
   "outputs": [
    {
     "name": "stdout",
     "output_type": "stream",
     "text": [
      "123.0\n",
      "<class 'float'>\n"
     ]
    }
   ],
   "source": [
    "#Converting an integer to float\n",
    "b=float(a)\n",
    "print(b)\n",
    "print(type(b))"
   ]
  },
  {
   "cell_type": "code",
   "execution_count": 14,
   "id": "a3e83887-187e-428f-aa4b-bde168f7242f",
   "metadata": {},
   "outputs": [
    {
     "name": "stdout",
     "output_type": "stream",
     "text": [
      "58\n",
      "<class 'int'>\n"
     ]
    }
   ],
   "source": [
    "#Converting a float to integer\n",
    "j=int(i)\n",
    "print(j)\n",
    "print(type(j))"
   ]
  },
  {
   "cell_type": "code",
   "execution_count": 16,
   "id": "66b72877-fe62-49c4-818c-17802591761c",
   "metadata": {},
   "outputs": [
    {
     "name": "stdout",
     "output_type": "stream",
     "text": [
      "123.0\n",
      "<class 'str'>\n"
     ]
    }
   ],
   "source": [
    "# Converting float to string\n",
    "s=str(b)\n",
    "print(s)\n",
    "print(type(s))"
   ]
  },
  {
   "cell_type": "code",
   "execution_count": 17,
   "id": "be52b774-fd50-4f34-b6cf-18baaab30dcb",
   "metadata": {},
   "outputs": [
    {
     "ename": "ValueError",
     "evalue": "could not convert string to float: 'Basalt'",
     "output_type": "error",
     "traceback": [
      "\u001b[1;31m---------------------------------------------------------------------------\u001b[0m",
      "\u001b[1;31mValueError\u001b[0m                                Traceback (most recent call last)",
      "Cell \u001b[1;32mIn[17], line 2\u001b[0m\n\u001b[0;32m      1\u001b[0m \u001b[38;5;66;03m# Converting string to float\u001b[39;00m\n\u001b[1;32m----> 2\u001b[0m r\u001b[38;5;241m=\u001b[39m\u001b[38;5;28mfloat\u001b[39m(Rock)\n",
      "\u001b[1;31mValueError\u001b[0m: could not convert string to float: 'Basalt'"
     ]
    }
   ],
   "source": [
    "# Converting string to float fails as 'Basalt' cannot be a number\n",
    "r=float(Rock)"
   ]
  },
  {
   "cell_type": "code",
   "execution_count": null,
   "id": "13489b69-039f-467f-9124-030a396a7505",
   "metadata": {},
   "outputs": [],
   "source": []
  }
 ],
 "metadata": {
  "kernelspec": {
   "display_name": "Python 3 (ipykernel)",
   "language": "python",
   "name": "python3"
  },
  "language_info": {
   "codemirror_mode": {
    "name": "ipython",
    "version": 3
   },
   "file_extension": ".py",
   "mimetype": "text/x-python",
   "name": "python",
   "nbconvert_exporter": "python",
   "pygments_lexer": "ipython3",
   "version": "3.12.2"
  }
 },
 "nbformat": 4,
 "nbformat_minor": 5
}
