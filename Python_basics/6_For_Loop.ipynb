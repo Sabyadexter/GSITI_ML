{
 "cells": [
  {
   "cell_type": "markdown",
   "id": "700089d6-2b9f-4a0f-a1c4-ebfe123e10e1",
   "metadata": {},
   "source": [
    "# For Loops are used to perform repeated tasks\n",
    "* Loops run over a range of values\n",
    "* Usually a range(start, end) function is used to denote the indices to begin and end. \n",
    "* **Loop always stops at (end-1)**\n",
    "* If start is not mentioned, it means starting index=0. e.g. range(10) means starts at 0, ends at 9."
   ]
  },
  {
   "cell_type": "code",
   "execution_count": 4,
   "id": "468226eb-4730-4348-aac2-82000e75e69c",
   "metadata": {},
   "outputs": [
    {
     "name": "stdout",
     "output_type": "stream",
     "text": [
      "0\n",
      "1\n",
      "2\n",
      "3\n",
      "4\n",
      "5\n",
      "6\n",
      "7\n",
      "8\n",
      "9\n"
     ]
    }
   ],
   "source": [
    "# For loop starts at 0, runs upto 10-1 i.e. 9. While the loop runs, i takes on the indices one-by-one\n",
    "for i in range(10): \n",
    "    print(i)"
   ]
  },
  {
   "cell_type": "markdown",
   "id": "2df306d5-d0bb-4837-a740-30c9a772137c",
   "metadata": {},
   "source": [
    "# Creating a list of first 100 integers using a for loop\n",
    "* Initialize an empty list first\n",
    "* Keep on appending the list using the for loop\n",
    "    "
   ]
  },
  {
   "cell_type": "code",
   "execution_count": 5,
   "id": "3e94fc51-6090-46d9-b5f0-af58954b59c2",
   "metadata": {},
   "outputs": [
    {
     "name": "stdout",
     "output_type": "stream",
     "text": [
      "[0, 1, 2, 3, 4, 5, 6, 7, 8, 9, 10, 11, 12, 13, 14, 15, 16, 17, 18, 19, 20, 21, 22, 23, 24, 25, 26, 27, 28, 29, 30, 31, 32, 33, 34, 35, 36, 37, 38, 39, 40, 41, 42, 43, 44, 45, 46, 47, 48, 49, 50, 51, 52, 53, 54, 55, 56, 57, 58, 59, 60, 61, 62, 63, 64, 65, 66, 67, 68, 69, 70, 71, 72, 73, 74, 75, 76, 77, 78, 79, 80, 81, 82, 83, 84, 85, 86, 87, 88, 89, 90, 91, 92, 93, 94, 95, 96, 97, 98, 99]\n"
     ]
    }
   ],
   "source": [
    "A=[]\n",
    "for i in range(100):\n",
    "    A.append(i)\n",
    "\n",
    "print(A)"
   ]
  },
  {
   "cell_type": "code",
   "execution_count": 7,
   "id": "e3c92fbc-72a8-47d1-879f-706809169f54",
   "metadata": {},
   "outputs": [
    {
     "name": "stdout",
     "output_type": "stream",
     "text": [
      "[0]\n",
      "[0, 1]\n",
      "[0, 1, 2]\n",
      "[0, 1, 2, 3]\n",
      "[0, 1, 2, 3, 4]\n",
      "[0, 1, 2, 3, 4, 5]\n",
      "[0, 1, 2, 3, 4, 5, 6]\n",
      "[0, 1, 2, 3, 4, 5, 6, 7]\n",
      "[0, 1, 2, 3, 4, 5, 6, 7, 8]\n",
      "[0, 1, 2, 3, 4, 5, 6, 7, 8, 9]\n"
     ]
    }
   ],
   "source": [
    "# We can see how the list is getting expanded inside the loop by printing at every step\n",
    "B=[]\n",
    "for i in range(10):\n",
    "    B.append(i)\n",
    "    print(B)"
   ]
  },
  {
   "cell_type": "code",
   "execution_count": null,
   "id": "1782b26e-a904-427f-a860-e7e550cbb371",
   "metadata": {},
   "outputs": [],
   "source": []
  }
 ],
 "metadata": {
  "kernelspec": {
   "display_name": "Python 3 (ipykernel)",
   "language": "python",
   "name": "python3"
  },
  "language_info": {
   "codemirror_mode": {
    "name": "ipython",
    "version": 3
   },
   "file_extension": ".py",
   "mimetype": "text/x-python",
   "name": "python",
   "nbconvert_exporter": "python",
   "pygments_lexer": "ipython3",
   "version": "3.12.2"
  }
 },
 "nbformat": 4,
 "nbformat_minor": 5
}
