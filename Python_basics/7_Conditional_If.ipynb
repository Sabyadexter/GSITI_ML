{
 "cells": [
  {
   "cell_type": "markdown",
   "id": "738a6d14-7243-4176-8614-179daf797387",
   "metadata": {},
   "source": [
    "# If, else statements are used to perform conditional tasks\n",
    "* Usual syntax is as follows"
   ]
  },
  {
   "cell_type": "code",
   "execution_count": 5,
   "id": "3fe9a360-8844-4cb1-9f66-89db134aafa7",
   "metadata": {},
   "outputs": [],
   "source": [
    "# if(Condition is True):\n",
    "#     Do Something\n",
    "# else\n",
    "#    Do something other\n",
    "\n",
    "\n",
    "# or\n",
    "\n",
    "# if(Condition is True):\n",
    "#     Do Something\n",
    "\n",
    "\n",
    "#In the second case it means, else do_nothing"
   ]
  },
  {
   "cell_type": "markdown",
   "id": "ae803505-733c-4c4d-8c19-628ae15eb172",
   "metadata": {},
   "source": [
    "# Conditional statements result in Boolean variables(True/False)"
   ]
  },
  {
   "cell_type": "code",
   "execution_count": 9,
   "id": "64b1ea67-8931-411a-b1ad-554bb83f24ef",
   "metadata": {},
   "outputs": [
    {
     "name": "stdout",
     "output_type": "stream",
     "text": [
      "True\n",
      "False\n"
     ]
    }
   ],
   "source": [
    "x=12\n",
    "print(x==12) # Check if x is really equal to 12\n",
    "print(x<0) # Check if x is negative"
   ]
  },
  {
   "cell_type": "markdown",
   "id": "112b4e11-255b-4e3a-8abd-2139fd3d6105",
   "metadata": {},
   "source": [
    "# How to check if a number is even?\n",
    "* Remainder=0 if number is divided by 2\n",
    "* Remainder function: % "
   ]
  },
  {
   "cell_type": "code",
   "execution_count": 12,
   "id": "8c90581a-13d1-453e-a8e6-26642929e721",
   "metadata": {},
   "outputs": [
    {
     "name": "stdout",
     "output_type": "stream",
     "text": [
      "0\n"
     ]
    }
   ],
   "source": [
    "x=12\n",
    "rem=x % 2\n",
    "print(rem)"
   ]
  },
  {
   "cell_type": "code",
   "execution_count": 18,
   "id": "be7f5b02-664a-4f04-82fb-fe1468a27c18",
   "metadata": {},
   "outputs": [
    {
     "name": "stdout",
     "output_type": "stream",
     "text": [
      "0\n"
     ]
    }
   ],
   "source": [
    "x=14\n",
    "rem=x%2\n",
    "print(rem)"
   ]
  },
  {
   "cell_type": "code",
   "execution_count": 19,
   "id": "d6115211-babe-47b3-b4c1-60dd3f2177d3",
   "metadata": {},
   "outputs": [
    {
     "name": "stdout",
     "output_type": "stream",
     "text": [
      "True\n"
     ]
    }
   ],
   "source": [
    "print(rem==0)"
   ]
  },
  {
   "cell_type": "code",
   "execution_count": 21,
   "id": "bdaaa66d-8042-47e2-a2a6-cc3ae97603d3",
   "metadata": {},
   "outputs": [
    {
     "name": "stdout",
     "output_type": "stream",
     "text": [
      "[0, 2, 4, 6, 8, 10, 12, 14, 16, 18, 20, 22, 24, 26, 28, 30, 32, 34, 36, 38, 40, 42, 44, 46, 48, 50, 52, 54, 56, 58, 60, 62, 64, 66, 68, 70, 72, 74, 76, 78, 80, 82, 84, 86, 88, 90, 92, 94, 96, 98]\n"
     ]
    }
   ],
   "source": [
    "# Here we want to create a list of even numbers (upto first 100 positive integers) using for loop as well as if loop\n",
    "A=[]\n",
    "for x in range(100):\n",
    "    if(x%2==0):\n",
    "        A.append(x)\n",
    "\n",
    "print(A)"
   ]
  },
  {
   "cell_type": "code",
   "execution_count": null,
   "id": "f42a1e51-b3d4-40ca-b487-77191de196ac",
   "metadata": {},
   "outputs": [],
   "source": []
  }
 ],
 "metadata": {
  "kernelspec": {
   "display_name": "Python 3 (ipykernel)",
   "language": "python",
   "name": "python3"
  },
  "language_info": {
   "codemirror_mode": {
    "name": "ipython",
    "version": 3
   },
   "file_extension": ".py",
   "mimetype": "text/x-python",
   "name": "python",
   "nbconvert_exporter": "python",
   "pygments_lexer": "ipython3",
   "version": "3.12.2"
  }
 },
 "nbformat": 4,
 "nbformat_minor": 5
}
