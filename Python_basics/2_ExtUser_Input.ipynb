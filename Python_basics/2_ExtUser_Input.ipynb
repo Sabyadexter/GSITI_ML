{
 "cells": [
  {
   "cell_type": "markdown",
   "id": "45b9b7fa-5a60-4394-b49f-fbcb9e56b050",
   "metadata": {},
   "source": [
    "# This program accepts numbers as inputs from external user and adds them up\n",
    "* By default the inputs are treated as strings(although user types them as numbers)\n",
    "* We convert the string to floating point numbers and assign it to variable"
   ]
  },
  {
   "cell_type": "code",
   "execution_count": 4,
   "id": "5574d7b7-c87a-4a46-a9cf-b00408a39280",
   "metadata": {},
   "outputs": [
    {
     "name": "stdin",
     "output_type": "stream",
     "text": [
      "Enter first number:  -33\n",
      "Enter second number:  48\n"
     ]
    },
    {
     "name": "stdout",
     "output_type": "stream",
     "text": [
      "The sum of the above two numbers is 15.0\n"
     ]
    }
   ],
   "source": [
    "# Store input numbers into two variables\n",
    "num1 = float(input('Enter first number: '))\n",
    "num2 = float(input('Enter second number: '))\n",
    "\n",
    "# Add two variables\n",
    "sum = num1 + num2\n",
    "\n",
    "# Display the sum\n",
    "print('The sum of the above two numbers is', sum)"
   ]
  },
  {
   "cell_type": "code",
   "execution_count": null,
   "id": "c3a52e13-e9a1-4fec-b722-1a0cd7b39d30",
   "metadata": {},
   "outputs": [],
   "source": []
  }
 ],
 "metadata": {
  "kernelspec": {
   "display_name": "Python 3 (ipykernel)",
   "language": "python",
   "name": "python3"
  },
  "language_info": {
   "codemirror_mode": {
    "name": "ipython",
    "version": 3
   },
   "file_extension": ".py",
   "mimetype": "text/x-python",
   "name": "python",
   "nbconvert_exporter": "python",
   "pygments_lexer": "ipython3",
   "version": "3.12.2"
  }
 },
 "nbformat": 4,
 "nbformat_minor": 5
}
