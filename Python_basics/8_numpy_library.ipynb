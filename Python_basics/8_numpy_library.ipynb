{
 "cells": [
  {
   "cell_type": "markdown",
   "id": "28b68262-0549-410c-8b83-d7f7010386da",
   "metadata": {},
   "source": [
    "# Numpy( Numerical Python) library is used for efficient numerical computation\n",
    "* Any new library needs to be installed first. \n",
    "    * Open Anaconda powershell prompt. \n",
    "    * Activate the desired environment. 'conda activate GSITI_ML'\n",
    "    * Type 'conda install numpy' or 'pip install numpy'\n",
    "* Numpy library has many built-in functions that make life easy\n",
    "* Numpy is faster than usual Python math library\n",
    "* Computations are efficient especially with lists (called numpy arrays)"
   ]
  },
  {
   "cell_type": "code",
   "execution_count": 2,
   "id": "c5d4a0ae-375a-447d-b38a-6db95169c32e",
   "metadata": {},
   "outputs": [],
   "source": [
    "#We first import the Numpy library and give it a nickname 'np'\n",
    "import numpy as np"
   ]
  },
  {
   "cell_type": "code",
   "execution_count": 44,
   "id": "94f8bcf3-7fb7-439c-8b3f-ddeb12b05913",
   "metadata": {},
   "outputs": [
    {
     "name": "stdout",
     "output_type": "stream",
     "text": [
      "[0. 0. 0. 0. 0.]\n"
     ]
    }
   ],
   "source": [
    "# Define a numpy array of length 5 with all entries=0\n",
    "A=np.zeros([5])\n",
    "print(A)"
   ]
  },
  {
   "cell_type": "code",
   "execution_count": 46,
   "id": "f57845e2-26fe-4626-b7ad-fde3386b22da",
   "metadata": {},
   "outputs": [
    {
     "name": "stdout",
     "output_type": "stream",
     "text": [
      "[  0.  10.   0. -20.   0.]\n"
     ]
    }
   ],
   "source": [
    "# Assigning new entries\n",
    "A[1]=10\n",
    "A[3]=-20\n",
    "print(A)"
   ]
  },
  {
   "cell_type": "code",
   "execution_count": 59,
   "id": "4b6e7199-4080-42ae-9dee-855c9060c405",
   "metadata": {},
   "outputs": [
    {
     "name": "stdout",
     "output_type": "stream",
     "text": [
      "[  4  -7  18   1  21 -15   9   0  33  24]\n"
     ]
    }
   ],
   "source": [
    "# Declaring an array of length 10\n",
    "A=np.array([4,-7,18,1,21,-15,9,0,33,24])\n",
    "print(A)"
   ]
  },
  {
   "cell_type": "code",
   "execution_count": 60,
   "id": "026f1e1e-794b-41e0-a0f8-d63cf683e26f",
   "metadata": {},
   "outputs": [
    {
     "data": {
      "text/plain": [
       "10"
      ]
     },
     "execution_count": 60,
     "metadata": {},
     "output_type": "execute_result"
    }
   ],
   "source": [
    "# Check length\n",
    "len(A)"
   ]
  },
  {
   "cell_type": "code",
   "execution_count": 61,
   "id": "93bcf1a9-4bdb-4a9a-ad7e-5d49bbc68af1",
   "metadata": {},
   "outputs": [
    {
     "name": "stdout",
     "output_type": "stream",
     "text": [
      "4\n"
     ]
    }
   ],
   "source": [
    "# Getting n-th element\n",
    "print(A[0])"
   ]
  },
  {
   "cell_type": "code",
   "execution_count": 62,
   "id": "232da4ca-34bd-4394-aeb4-5e9516277eea",
   "metadata": {},
   "outputs": [
    {
     "name": "stdout",
     "output_type": "stream",
     "text": [
      "-15\n"
     ]
    }
   ],
   "source": [
    "print(A[5])"
   ]
  },
  {
   "cell_type": "code",
   "execution_count": 63,
   "id": "0ecf2bf0-4468-497c-8575-66aa6023c141",
   "metadata": {},
   "outputs": [
    {
     "data": {
      "text/plain": [
       "array([ 18,   1,  21, -15,   9,   0])"
      ]
     },
     "execution_count": 63,
     "metadata": {},
     "output_type": "execute_result"
    }
   ],
   "source": [
    "#printing from 2nd element to 7th element\n",
    "A[2:8]"
   ]
  },
  {
   "cell_type": "code",
   "execution_count": 64,
   "id": "9ffdead4-6815-4e58-9cca-4aa6beb4e507",
   "metadata": {},
   "outputs": [
    {
     "data": {
      "text/plain": [
       "array([ 4, -7, 18,  1, 21])"
      ]
     },
     "execution_count": 64,
     "metadata": {},
     "output_type": "execute_result"
    }
   ],
   "source": [
    "#Extracting first 5 elements\n",
    "A[0:5]"
   ]
  },
  {
   "cell_type": "code",
   "execution_count": 68,
   "id": "7b2523e3-a967-4f78-904f-075039521c32",
   "metadata": {},
   "outputs": [
    {
     "data": {
      "text/plain": [
       "array([ 9,  0, 33, 24])"
      ]
     },
     "execution_count": 68,
     "metadata": {},
     "output_type": "execute_result"
    }
   ],
   "source": [
    "# Extracting last 4 elements\n",
    "A[-4:]"
   ]
  },
  {
   "cell_type": "code",
   "execution_count": null,
   "id": "10b98b07-89cb-48e0-b734-898f7aff05db",
   "metadata": {},
   "outputs": [],
   "source": [
    "B=np.array([6,7,8,9,10])\n",
    "C=A+B\n",
    "print(C)"
   ]
  },
  {
   "cell_type": "code",
   "execution_count": 9,
   "id": "244030ff-122e-4cb5-b75a-dcdf179f06e7",
   "metadata": {},
   "outputs": [
    {
     "name": "stdout",
     "output_type": "stream",
     "text": [
      "[ 49  81 121 169 225]\n"
     ]
    }
   ],
   "source": [
    "D=C**2\n",
    "print(C**2)"
   ]
  },
  {
   "cell_type": "code",
   "execution_count": 10,
   "id": "eec15810-88ef-4027-b6f6-447fcf64872d",
   "metadata": {},
   "outputs": [
    {
     "name": "stdout",
     "output_type": "stream",
     "text": [
      "[ 7.  9. 11. 13. 15.]\n"
     ]
    }
   ],
   "source": [
    "E=np.sqrt(C**2)\n",
    "print(E)"
   ]
  },
  {
   "cell_type": "markdown",
   "id": "04ce2764-883d-4793-a3a8-dc4acd5e98d7",
   "metadata": {},
   "source": [
    "# Basic Statistics using numpy"
   ]
  },
  {
   "cell_type": "code",
   "execution_count": 27,
   "id": "8e1182e3-e9ca-430f-ba9a-25cedcb2ecbd",
   "metadata": {},
   "outputs": [
    {
     "name": "stdout",
     "output_type": "stream",
     "text": [
      "[30, 70, 20, 140, 40, 90, 30, 110, 50]\n"
     ]
    }
   ],
   "source": [
    "X = [30, 70, 20, 140, 40, 90, 30, 110, 50]\n",
    "print(X)"
   ]
  },
  {
   "cell_type": "code",
   "execution_count": 28,
   "id": "cc1e9f85-b097-42f9-a993-0c6e836aa111",
   "metadata": {},
   "outputs": [
    {
     "name": "stdout",
     "output_type": "stream",
     "text": [
      "20\n"
     ]
    }
   ],
   "source": [
    "# Finding Minimum\n",
    "X_min=np.min(X)\n",
    "print(X_min)"
   ]
  },
  {
   "cell_type": "code",
   "execution_count": 29,
   "id": "6f503d0d-8512-4cf9-b27b-718f10d63f25",
   "metadata": {},
   "outputs": [
    {
     "name": "stdout",
     "output_type": "stream",
     "text": [
      "140\n"
     ]
    }
   ],
   "source": [
    "# Maximum\n",
    "print(np.max(X))"
   ]
  },
  {
   "cell_type": "code",
   "execution_count": 70,
   "id": "8b02049a-5eb9-46b6-9797-e28fdb44d43f",
   "metadata": {},
   "outputs": [
    {
     "name": "stdout",
     "output_type": "stream",
     "text": [
      "3\n"
     ]
    }
   ],
   "source": [
    "# Locating the array index where maximum occurs\n",
    "max_loc=np.argmax(X)\n",
    "print(max_loc)"
   ]
  },
  {
   "cell_type": "code",
   "execution_count": 30,
   "id": "0736e9c7-c0fc-4b7c-8838-88540b72af96",
   "metadata": {},
   "outputs": [
    {
     "name": "stdout",
     "output_type": "stream",
     "text": [
      "64.44444444444444\n"
     ]
    }
   ],
   "source": [
    "# Average\n",
    "X_av=np.mean(X)\n",
    "print(X_av)"
   ]
  },
  {
   "cell_type": "code",
   "execution_count": 69,
   "id": "deaa603f-c75e-443b-84c1-3c0e21b140ee",
   "metadata": {},
   "outputs": [
    {
     "data": {
      "text/plain": [
       "38.90475866669244"
      ]
     },
     "execution_count": 69,
     "metadata": {},
     "output_type": "execute_result"
    }
   ],
   "source": [
    "# Standard Deviation\n",
    "np.std(X)"
   ]
  },
  {
   "cell_type": "markdown",
   "id": "49b47ebc-05c0-45bd-a54e-c1b666212303",
   "metadata": {},
   "source": [
    "# Numpy 2-Dimensional Array\n",
    "* Array indices start at 0,0\n",
    "* For a 3X3 array following would be the arrangement"
   ]
  },
  {
   "cell_type": "code",
   "execution_count": 32,
   "id": "57eecc69-a4f5-48ad-be16-f1ecb007bcf7",
   "metadata": {},
   "outputs": [],
   "source": [
    "# Declaring an array of dimension(3x3) rows=3, columns=3\n",
    "#         Col0--------Col1-------Col2\n",
    "# Row0   (0,0)--------(0,1)--------(0,2)\n",
    "#          |             |           |\n",
    "#          |             |           |\n",
    "# Row1   (1,0)--------(1,1)--------(1,2) \n",
    "#          |             |           |\n",
    "#          |             |           |\n",
    "# Row2   (2,0)--------(2,1)--------(2,2)\n"
   ]
  },
  {
   "cell_type": "code",
   "execution_count": 72,
   "id": "a96dddae-4585-482e-88bb-c5b35dd00dad",
   "metadata": {},
   "outputs": [
    {
     "name": "stdout",
     "output_type": "stream",
     "text": [
      "[[0. 0. 0.]\n",
      " [0. 0. 0.]\n",
      " [0. 0. 0.]]\n"
     ]
    }
   ],
   "source": [
    "A=np.zeros([3,3])\n",
    "print(A)"
   ]
  },
  {
   "cell_type": "code",
   "execution_count": 73,
   "id": "57dc2c6a-447e-4dbd-844c-89a1d64a94a8",
   "metadata": {},
   "outputs": [
    {
     "name": "stdout",
     "output_type": "stream",
     "text": [
      "[[1. 0. 4.]\n",
      " [0. 0. 0.]\n",
      " [0. 0. 0.]]\n"
     ]
    }
   ],
   "source": [
    "A[0,0]=1\n",
    "A[0,1]=0\n",
    "A[0,2]=4\n",
    "print(A)"
   ]
  },
  {
   "cell_type": "code",
   "execution_count": 84,
   "id": "dd081a76-377c-4099-811d-093272a62c83",
   "metadata": {},
   "outputs": [
    {
     "name": "stdout",
     "output_type": "stream",
     "text": [
      "[[ 1.  0.  4.]\n",
      " [ 3.  7. 10.]\n",
      " [-4.  5.  8.]]\n"
     ]
    }
   ],
   "source": [
    "A[1,0]=3\n",
    "A[1,1]=7\n",
    "A[1,2]=10\n",
    "A[2,0]=-4\n",
    "A[2,1]=5\n",
    "A[2,2]=8\n",
    "print(A)"
   ]
  },
  {
   "cell_type": "code",
   "execution_count": 87,
   "id": "6fcc788b-eb70-4ed4-98ef-02a47098a42f",
   "metadata": {},
   "outputs": [
    {
     "data": {
      "text/plain": [
       "(3, 3)"
      ]
     },
     "execution_count": 87,
     "metadata": {},
     "output_type": "execute_result"
    }
   ],
   "source": [
    "A.shape"
   ]
  },
  {
   "cell_type": "code",
   "execution_count": 75,
   "id": "b75786f8-1b90-4767-bbc2-cc98ad804757",
   "metadata": {},
   "outputs": [
    {
     "data": {
      "text/plain": [
       "3.7777777777777777"
      ]
     },
     "execution_count": 75,
     "metadata": {},
     "output_type": "execute_result"
    }
   ],
   "source": [
    "np.mean(A)"
   ]
  },
  {
   "cell_type": "code",
   "execution_count": 76,
   "id": "908adbc7-7e67-4b00-8763-284379a00d1b",
   "metadata": {},
   "outputs": [
    {
     "name": "stdout",
     "output_type": "stream",
     "text": [
      "[1. 0. 4.]\n"
     ]
    }
   ],
   "source": [
    "# Extracting n-th row with all columns; Syntax A[n,:]. It means that \"Get n-th row and ':'  implies 'with all columns'\" \n",
    "print(A[0,:]) # Gets 0-th row"
   ]
  },
  {
   "cell_type": "code",
   "execution_count": 90,
   "id": "bc88351c-976b-43d1-92da-d5227f7671b4",
   "metadata": {},
   "outputs": [
    {
     "data": {
      "text/plain": [
       "array([ 4., 10.,  8.])"
      ]
     },
     "execution_count": 90,
     "metadata": {},
     "output_type": "execute_result"
    }
   ],
   "source": [
    "# 2nd column with all rows\n",
    "A[:, 2] # Gets 2-nd column"
   ]
  },
  {
   "cell_type": "code",
   "execution_count": 94,
   "id": "84960a73-f25d-476f-b850-352638ab4096",
   "metadata": {},
   "outputs": [
    {
     "name": "stdout",
     "output_type": "stream",
     "text": [
      "Minimum of array A is:  -4.0\n",
      "Location of minima is:  2 , 0\n"
     ]
    }
   ],
   "source": [
    "# Minimum and locating the index of maxima\n",
    "min=np.min(A)\n",
    "(min_r, min_c)=np.unravel_index(A.argmin(), A.shape)\n",
    "print('Minimum of array A is: ', min)\n",
    "print('Location of minima is: ', min_r, ',', min_c)"
   ]
  },
  {
   "cell_type": "code",
   "execution_count": null,
   "id": "1dfefc99-dc4b-40ef-a4c4-0804bbbf9e66",
   "metadata": {},
   "outputs": [],
   "source": []
  }
 ],
 "metadata": {
  "kernelspec": {
   "display_name": "Python 3 (ipykernel)",
   "language": "python",
   "name": "python3"
  },
  "language_info": {
   "codemirror_mode": {
    "name": "ipython",
    "version": 3
   },
   "file_extension": ".py",
   "mimetype": "text/x-python",
   "name": "python",
   "nbconvert_exporter": "python",
   "pygments_lexer": "ipython3",
   "version": "3.12.2"
  }
 },
 "nbformat": 4,
 "nbformat_minor": 5
}
