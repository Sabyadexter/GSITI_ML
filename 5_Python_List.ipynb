{
 "cells": [
  {
   "cell_type": "markdown",
   "id": "d2984cb7-4648-4da1-9f59-029f9a56c6f2",
   "metadata": {},
   "source": [
    "# Python List\n",
    "* Lists are used for storing data\n",
    "* Lists are like excel columns with index assigned to each entry\n",
    "* **In Python index always starts from 0.** \n",
    "* If a list is defined as ['Granite', 'Quartz', 'Basalt', 'Amphibolite', 'Schist']\n",
    "* This means that Granite is at 0-th entry, Quartz is at 1-st entry and so on"
   ]
  },
  {
   "cell_type": "code",
   "execution_count": 76,
   "id": "521f0fbd-9e2b-4499-ada6-5193b1c1b80c",
   "metadata": {},
   "outputs": [
    {
     "name": "stdout",
     "output_type": "stream",
     "text": [
      "[]\n"
     ]
    }
   ],
   "source": [
    "# An empty list\n",
    "A=[]\n",
    "print(A)"
   ]
  },
  {
   "cell_type": "code",
   "execution_count": 77,
   "id": "1b7952e3-7a7b-4f9d-94c0-9e3dce524a7a",
   "metadata": {},
   "outputs": [
    {
     "data": {
      "text/plain": [
       "list"
      ]
     },
     "execution_count": 77,
     "metadata": {},
     "output_type": "execute_result"
    }
   ],
   "source": [
    "type(A)"
   ]
  },
  {
   "cell_type": "code",
   "execution_count": 78,
   "id": "9f0ec7fd-411d-46ef-92d7-65209790a3b8",
   "metadata": {},
   "outputs": [
    {
     "name": "stdout",
     "output_type": "stream",
     "text": [
      "['Limestone', 'Basalt', 'Amphibolite', 'Schist', 'Quartzite']\n"
     ]
    }
   ],
   "source": [
    "# A list of rocks in a Litho-log\n",
    "Log = ['Limestone', 'Basalt', 'Amphibolite', 'Schist', 'Quartzite']\n",
    "print(Log)"
   ]
  },
  {
   "cell_type": "code",
   "execution_count": 79,
   "id": "dc07a712-9fec-46b1-9789-647bc4b1d3ca",
   "metadata": {},
   "outputs": [
    {
     "name": "stdout",
     "output_type": "stream",
     "text": [
      "Limestone\n"
     ]
    }
   ],
   "source": [
    "print(Log[0])"
   ]
  },
  {
   "cell_type": "code",
   "execution_count": 80,
   "id": "f7389b6a-3427-4bb6-9317-d2bdf43f217b",
   "metadata": {},
   "outputs": [
    {
     "name": "stdout",
     "output_type": "stream",
     "text": [
      "Quartzite\n"
     ]
    }
   ],
   "source": [
    "print(Log[4])"
   ]
  },
  {
   "cell_type": "code",
   "execution_count": 81,
   "id": "ef07e610-75f4-48a0-8d5f-18e61c08fca0",
   "metadata": {},
   "outputs": [
    {
     "name": "stdout",
     "output_type": "stream",
     "text": [
      "['Limestone', 'Basalt', 'Granite', 'Schist', 'Quartzite']\n"
     ]
    }
   ],
   "source": [
    "# We can change any entry\n",
    "Log[2]='Granite'\n",
    "print(Log)"
   ]
  },
  {
   "cell_type": "code",
   "execution_count": 82,
   "id": "3c66884f-937f-48ea-a5df-5cfd5b4fd347",
   "metadata": {},
   "outputs": [
    {
     "name": "stdout",
     "output_type": "stream",
     "text": [
      "['Limestone', 'Basalt', 'Granite', 'Schist', 'Quartzite', 'Gneiss']\n"
     ]
    }
   ],
   "source": [
    "# Add a new entry at the end by .append(new_entry) function\n",
    "Log.append('Gneiss')\n",
    "print(Log)"
   ]
  },
  {
   "cell_type": "code",
   "execution_count": 83,
   "id": "075c42e2-1da4-47e2-b237-c174c982eaf1",
   "metadata": {},
   "outputs": [
    {
     "name": "stdout",
     "output_type": "stream",
     "text": [
      "['Sand', 'Limestone', 'Basalt', 'Granite', 'Schist', 'Quartzite', 'Gneiss']\n"
     ]
    }
   ],
   "source": [
    "# Add a new entry anywhere by .insert(index, new_entry) function\n",
    "Log.insert(0, 'Sand') # Adding a new entry at 0-th location\n",
    "print(Log)"
   ]
  },
  {
   "cell_type": "code",
   "execution_count": 84,
   "id": "54c42801-1ff9-4ab9-951d-9cd0b8b3748b",
   "metadata": {},
   "outputs": [
    {
     "name": "stdout",
     "output_type": "stream",
     "text": [
      "['Sand', 'Limestone', 'Basalt', 'Sandstone', 'Granite', 'Schist', 'Quartzite', 'Gneiss']\n"
     ]
    }
   ],
   "source": [
    "# Inserting a new entry and copying them to a new list \n",
    "Log.insert(3, 'Sandstone')\n",
    "print(Log)"
   ]
  },
  {
   "cell_type": "code",
   "execution_count": 85,
   "id": "3bbb8901-a112-45c7-b1ed-2ab7710b0924",
   "metadata": {},
   "outputs": [
    {
     "name": "stdout",
     "output_type": "stream",
     "text": [
      "['Sand', 'Limestone', 'Basalt', 'Sandstone', 'Granite', 'Quartzite', 'Gneiss']\n"
     ]
    }
   ],
   "source": [
    "#Removing 5-th entry by .pop() function\n",
    "Log.pop(5)\n",
    "print(Log)"
   ]
  },
  {
   "cell_type": "code",
   "execution_count": 86,
   "id": "47df8d42-5380-47a5-938d-d8316221917c",
   "metadata": {},
   "outputs": [
    {
     "name": "stdout",
     "output_type": "stream",
     "text": [
      "[4, -3.4, 27, 32.8, -56.7, -8, -12.9, 0, 11]\n"
     ]
    }
   ],
   "source": [
    "# Joining two lists and creating a new list\n",
    "A=[4, -3.4, 27, 32.8, -56.7]\n",
    "B=[-8, -12.9, 0, 11]\n",
    "C=A+B\n",
    "print(C)"
   ]
  },
  {
   "cell_type": "code",
   "execution_count": 88,
   "id": "98ea36d0-0d36-4eee-b029-b544a0fd5f8f",
   "metadata": {},
   "outputs": [
    {
     "name": "stdout",
     "output_type": "stream",
     "text": [
      "[0, 1, 2, 3, 4, 5, 6, 7, 8, 9]\n"
     ]
    }
   ],
   "source": [
    "# List of first 10 integers \n",
    "A=[0,1,2,3,4,5,6,7,8,9]\n",
    "print(A)"
   ]
  },
  {
   "cell_type": "code",
   "execution_count": null,
   "id": "6f6f759e-5299-4307-8a7d-d60636397f69",
   "metadata": {},
   "outputs": [],
   "source": []
  }
 ],
 "metadata": {
  "kernelspec": {
   "display_name": "Python 3 (ipykernel)",
   "language": "python",
   "name": "python3"
  },
  "language_info": {
   "codemirror_mode": {
    "name": "ipython",
    "version": 3
   },
   "file_extension": ".py",
   "mimetype": "text/x-python",
   "name": "python",
   "nbconvert_exporter": "python",
   "pygments_lexer": "ipython3",
   "version": "3.12.2"
  }
 },
 "nbformat": 4,
 "nbformat_minor": 5
}
