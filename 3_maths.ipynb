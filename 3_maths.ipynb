{
 "cells": [
  {
   "cell_type": "markdown",
   "id": "54bd5cfd-3a73-448e-9149-4822d72b618b",
   "metadata": {},
   "source": [
    "# This program gives examples of simple mathematical operations and use of 'math' library\n",
    "* 'math' library is required to perform higher level mathematical operations "
   ]
  },
  {
   "cell_type": "code",
   "execution_count": 1,
   "id": "0e17c46c-5701-447f-9d60-cedc7d32e281",
   "metadata": {},
   "outputs": [
    {
     "name": "stdout",
     "output_type": "stream",
     "text": [
      "69.5\n"
     ]
    }
   ],
   "source": [
    "#Subtraction\n",
    "x=100\n",
    "y=30.5\n",
    "z=x-y\n",
    "print(z)"
   ]
  },
  {
   "cell_type": "code",
   "execution_count": 2,
   "id": "1047fd70-f6fc-42bf-a502-fe7286432d19",
   "metadata": {},
   "outputs": [
    {
     "name": "stdout",
     "output_type": "stream",
     "text": [
      "3050.0 3.278688524590164\n"
     ]
    }
   ],
   "source": [
    "#Multiplication & division\n",
    "print(x*y, x/y)\n",
    "#Here calculation is done directly inside print function without declaring a third variable"
   ]
  },
  {
   "cell_type": "code",
   "execution_count": 3,
   "id": "0c6aed2c-fe00-4d74-a88c-1f15e211ceda",
   "metadata": {},
   "outputs": [
    {
     "ename": "NameError",
     "evalue": "name 'sqrt' is not defined",
     "output_type": "error",
     "traceback": [
      "\u001b[1;31m---------------------------------------------------------------------------\u001b[0m",
      "\u001b[1;31mNameError\u001b[0m                                 Traceback (most recent call last)",
      "Cell \u001b[1;32mIn[3], line 1\u001b[0m\n\u001b[1;32m----> 1\u001b[0m a\u001b[38;5;241m=\u001b[39msqrt(x)\n",
      "\u001b[1;31mNameError\u001b[0m: name 'sqrt' is not defined"
     ]
    }
   ],
   "source": [
    "# Square root\n",
    "a=sqrt(x)"
   ]
  },
  {
   "cell_type": "code",
   "execution_count": 5,
   "id": "4bb97825-919b-42c0-b90c-f8f6bf614be8",
   "metadata": {},
   "outputs": [
    {
     "name": "stdout",
     "output_type": "stream",
     "text": [
      "10.0\n"
     ]
    }
   ],
   "source": [
    "# Import math for higher level functions\n",
    "import math\n",
    "a=math.sqrt(x)\n",
    "print(a)"
   ]
  },
  {
   "cell_type": "markdown",
   "id": "46646f8d-47db-40a0-8459-6241316db5b0",
   "metadata": {},
   "source": [
    "# For Trigonometric functions all angles should be in Radian"
   ]
  },
  {
   "cell_type": "code",
   "execution_count": 7,
   "id": "63b84190-6598-4b68-b614-d5c2e8d08798",
   "metadata": {},
   "outputs": [
    {
     "name": "stdout",
     "output_type": "stream",
     "text": [
      "0.8939966636005579\n"
     ]
    }
   ],
   "source": [
    "# Trigonometric functions\n",
    "s=math.sin(90)\n",
    "print(s)"
   ]
  },
  {
   "cell_type": "code",
   "execution_count": 9,
   "id": "eaa91b74-f518-4654-9fd5-8334a550cfff",
   "metadata": {},
   "outputs": [
    {
     "name": "stdout",
     "output_type": "stream",
     "text": [
      "3.141592653589793\n"
     ]
    }
   ],
   "source": [
    "# All angles should be in radian\n",
    "# 180 degree = pi radian\n",
    "# theta degree = theta*pi/180 radian\n",
    "# We have to first import pi from math library\n",
    "pi = math.pi\n",
    "print(pi)"
   ]
  },
  {
   "cell_type": "code",
   "execution_count": 11,
   "id": "f94e3e0b-303b-4234-9059-a412b499ae43",
   "metadata": {},
   "outputs": [
    {
     "name": "stdout",
     "output_type": "stream",
     "text": [
      "0.7071067811865476\n"
     ]
    }
   ],
   "source": [
    "# We calculate sin(theta) again\n",
    "theta_deg=45 # Angle in degree\n",
    "theta_rad=theta_deg*pi/180 # Angle in radian\n",
    "\n",
    "s=math.sin(theta_rad)\n",
    "print(s)"
   ]
  },
  {
   "cell_type": "code",
   "execution_count": null,
   "id": "bbabfd2e-77fe-4e2a-ae32-8d94158f4483",
   "metadata": {},
   "outputs": [],
   "source": []
  }
 ],
 "metadata": {
  "kernelspec": {
   "display_name": "Python 3 (ipykernel)",
   "language": "python",
   "name": "python3"
  },
  "language_info": {
   "codemirror_mode": {
    "name": "ipython",
    "version": 3
   },
   "file_extension": ".py",
   "mimetype": "text/x-python",
   "name": "python",
   "nbconvert_exporter": "python",
   "pygments_lexer": "ipython3",
   "version": "3.12.2"
  }
 },
 "nbformat": 4,
 "nbformat_minor": 5
}
